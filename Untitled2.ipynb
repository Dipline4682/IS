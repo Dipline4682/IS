{
  "nbformat": 4,
  "nbformat_minor": 0,
  "metadata": {
    "colab": {
      "name": "Untitled2.ipynb",
      "provenance": [],
      "collapsed_sections": [],
      "authorship_tag": "ABX9TyMNCksIZ/YjCkMFK8cySngr",
      "include_colab_link": true
    },
    "kernelspec": {
      "name": "python3",
      "display_name": "Python 3"
    },
    "language_info": {
      "name": "python"
    }
  },
  "cells": [
    {
      "cell_type": "markdown",
      "metadata": {
        "id": "view-in-github",
        "colab_type": "text"
      },
      "source": [
        "<a href=\"https://colab.research.google.com/github/Dipline4682/IS/blob/main/Untitled2.ipynb\" target=\"_parent\"><img src=\"https://colab.research.google.com/assets/colab-badge.svg\" alt=\"Open In Colab\"/></a>"
      ]
    },
    {
      "cell_type": "code",
      "metadata": {
        "id": "K8h8eSDtmTkm"
      },
      "source": [
        "import random\n",
        "import numpy as np"
      ],
      "execution_count": null,
      "outputs": []
    },
    {
      "cell_type": "code",
      "metadata": {
        "id": "NDwYdpDmABnc"
      },
      "source": [
        "# Определим набор данных\n",
        "##==== AND =========\n",
        "X_AND = np.array([\n",
        "  [0, 0], # 0\n",
        "  [0, 1], # 0\n",
        "  [1, 0], # 0\n",
        "  [1, 1], # 1\n",
        "])\n",
        "Y_AND = np.array([\n",
        "  0, # [0, 0]\n",
        "  0, # [0, 1]\n",
        "  0, # [1, 0]\n",
        "  1, # [1, 1]\n",
        "])\n",
        "##==================\n",
        "##===== OR =========\n",
        "X_OR = np.array([\n",
        "  [0, 0], # 0\n",
        "  [0, 1], # 1\n",
        "  [1, 0], # 1\n",
        "  [1, 1], # 1\n",
        "])\n",
        "Y_OR = np.array([\n",
        "  0, # [0, 0]\n",
        "  1, # [0, 1]\n",
        "  1, # [1, 0]\n",
        "  1, # [1, 1]\n",
        "])\n",
        "##==================\n",
        "##==== XOR =========\n",
        "X_XOR = np.array([\n",
        "  [0, 0], # 0\n",
        "  [0, 1], # 1\n",
        "  [1, 0], # 1\n",
        "  [1, 1], # 0\n",
        "])\n",
        "Y_XOR = np.array([\n",
        "  0, # [0, 0]\n",
        "  1, # [0, 1]\n",
        "  1, # [1, 0]\n",
        "  0, # [1, 1]\n",
        "])\n",
        "##================="
      ],
      "execution_count": null,
      "outputs": []
    },
    {
      "cell_type": "code",
      "metadata": {
        "id": "PS_Ua23Nr4XZ"
      },
      "source": [
        "# Функция активации\n",
        "def sigmoid(x):\n",
        "    return 1. / (1. + np.exp(-x))"
      ],
      "execution_count": null,
      "outputs": []
    },
    {
      "cell_type": "code",
      "metadata": {
        "id": "fKXDJ5igTSAO"
      },
      "source": [
        "# функция среднее квадратичной ошибки\n",
        "def mse_loss(y_true, y_pred):\n",
        "  # y_true и y_pred - массивы numpy одинаковой длины.\n",
        "  #return ((y_true - y_pred) ** 2).mean()\n",
        "  suma = 0\n",
        "  for i in range(len(y_true)):\n",
        "    suma = suma + ((y_true[i] - y_pred[i]) ** 2)\n",
        "    print(i, ': loss', suma)\n",
        "  #return (1)/(len(y_true)) * suma\n",
        "  return suma/(len(y_true))\n"
      ],
      "execution_count": null,
      "outputs": []
    },
    {
      "cell_type": "code",
      "metadata": {
        "id": "WjJP6vRTr9KU"
      },
      "source": [
        "##backpropogation обратное распространение\n"
      ],
      "execution_count": null,
      "outputs": []
    },
    {
      "cell_type": "code",
      "metadata": {
        "id": "rnPF3JDtr6RF",
        "colab": {
          "base_uri": "https://localhost:8080/"
        },
        "outputId": "6a7c8125-9a52-420d-d849-03efd9b87722"
      },
      "source": [
        "#создание рандомных весов\n",
        "def CreatWeights():#h, w):\n",
        "    weights = []\n",
        "    for j in range(2):\n",
        "        weights.append(float(random.uniform(0.0, 1.0)))\n",
        "    return weights\n",
        "weights = []\n",
        "for i  in range(6):\n",
        "  weights.append(np.array(CreatWeights())) # инициаизируем веса неейронной сети(не сохраняются в файе)\n",
        "weights = np.array(weights) # преобразуем список в массив numpy\n",
        "weights"
      ],
      "execution_count": null,
      "outputs": [
        {
          "output_type": "execute_result",
          "data": {
            "text/plain": [
              "array([[0.5767106 , 0.50441462],\n",
              "       [0.05591189, 0.54530769],\n",
              "       [0.75984497, 0.16173523],\n",
              "       [0.47150372, 0.84727189],\n",
              "       [0.74277604, 0.15885949],\n",
              "       [0.52413202, 0.57732189]])"
            ]
          },
          "metadata": {},
          "execution_count": 28
        }
      ]
    },
    {
      "cell_type": "code",
      "metadata": {
        "id": "8VsPPOxErYWt"
      },
      "source": [
        "# Создние класса нейрона\n",
        "class Neuron:\n",
        "  def __init__(self, weights):\n",
        "    self.weights = weights\n",
        "\n",
        "  def feedforward(self, inputs):\n",
        "    # Умножаем входы на веса, сумируем, затем используем функцию активации\n",
        "    total = (self.weights[0] * inputs[0]) + (self.weights[1] * inputs[1])\n",
        "    return sigmoid(total)"
      ],
      "execution_count": null,
      "outputs": []
    },
    {
      "cell_type": "code",
      "metadata": {
        "id": "eM-SfLi3pjFC"
      },
      "source": [
        "# Класс для построния сети. Два входных нейрона, два скрытых нейрона и 1 выходной нейрон\n",
        "class OurNeuralNetwork:\n",
        "  def __init__(self):\n",
        "    # Используем класс Neuron\n",
        "    # Веса входных данных\n",
        "    self.h1 = Neuron(weights[0]) # Веса weights[n] имеет вид (пример: [1.5, 0.5])\n",
        "    self.h2 = Neuron(weights[1])\n",
        "    # Веса скрыцтого слоя\n",
        "    self.h3 = Neuron(weights[2])\n",
        "    self.h4 = Neuron(weights[3])\n",
        "    # Веса выходных данных\n",
        "    self.o1 = Neuron(weights[4])\n",
        "\n",
        "  def feedforward(self, x):\n",
        "    out_o1 = []\n",
        "    for i in x:\n",
        "      #print(i[0])\n",
        "      # Входные данные\n",
        "      out_h1 = self.h1.feedforward(i)\n",
        "      out_h2 = self.h2.feedforward(i)\n",
        "      # Скрыцтый слой\n",
        "      out_h3 = self.h1.feedforward(np.array([out_h1, out_h2]))\n",
        "      out_h4 = self.h2.feedforward(np.array([out_h1, out_h2]))\n",
        "      # Входы для o1 - это выходы h3 и h4\n",
        "      out_o1.append(self.o1.feedforward(np.array([out_h3, out_h4])))\n",
        "    Do = mse_loss(Y_AND, y_pred)\n",
        "    #out_o1 = np.array(out_o1)\n",
        "\n",
        "    return out_o1\n",
        " "
      ],
      "execution_count": null,
      "outputs": []
    },
    {
      "cell_type": "code",
      "metadata": {
        "id": "CCP_X8VppjIz",
        "colab": {
          "base_uri": "https://localhost:8080/"
        },
        "outputId": "91a6e758-972c-4db5-f4a9-00dc444c25b7"
      },
      "source": [
        "network = OurNeuralNetwork()\n",
        "y_pred = network.feedforward(X_OR)\n",
        "#print(network.feedforward(X_AND))\n",
        "print('Результат вывода по таблице OR: ', y_pred)\n",
        "print('Правильные ответы таблицы OR : ', Y_OR)"
      ],
      "execution_count": null,
      "outputs": [
        {
          "output_type": "stream",
          "name": "stdout",
          "text": [
            "Результат вывода по таблице OR:  [0.63660793 0.64271574 0.64021214 0.64574742]\n",
            "Правильные ответы таблицы OR :  [0 1 1 1]\n"
          ]
        }
      ]
    },
    {
      "cell_type": "code",
      "metadata": {
        "colab": {
          "base_uri": "https://localhost:8080/"
        },
        "id": "IoLEqOhCTsPD",
        "outputId": "e1407ae6-9200-4f7d-b9ce-a9865de2d35f"
      },
      "source": [
        "print('Ошибка по таблице AND')\n",
        "print('Ошибка MSE между правильными ответами и вывода сети: loss = ', mse_loss(Y_AND, y_pred))"
      ],
      "execution_count": null,
      "outputs": [
        {
          "output_type": "stream",
          "name": "stdout",
          "text": [
            "Ошибка по таблице AND\n",
            "0 : loss 0.40526966255287983\n",
            "1 : loss 0.8183531843004821\n",
            "2 : loss 1.2282247743778263\n",
            "3 : loss 1.3537196631134232\n",
            "Ошибка MSE между правильными ответами и вывода сети: loss =  0.3384299157783558\n"
          ]
        }
      ]
    },
    {
      "cell_type": "code",
      "metadata": {
        "id": "5IVyaPrOpjMG"
      },
      "source": [
        ""
      ],
      "execution_count": null,
      "outputs": []
    },
    {
      "cell_type": "code",
      "metadata": {
        "id": "iX4XPrXfpjPk"
      },
      "source": [
        ""
      ],
      "execution_count": null,
      "outputs": []
    },
    {
      "cell_type": "code",
      "metadata": {
        "id": "YS0B6K5fpjSj"
      },
      "source": [
        ""
      ],
      "execution_count": null,
      "outputs": []
    },
    {
      "cell_type": "code",
      "metadata": {
        "id": "_T7a-ugOpjVn"
      },
      "source": [
        ""
      ],
      "execution_count": null,
      "outputs": []
    },
    {
      "cell_type": "code",
      "metadata": {
        "id": "Lg5zjmLKpjYy"
      },
      "source": [
        ""
      ],
      "execution_count": null,
      "outputs": []
    },
    {
      "cell_type": "code",
      "metadata": {
        "id": "ChWAHA-cpJwG"
      },
      "source": [
        "#https://proglib.io/p/pishem-neyroset-na-python-s-nulya-2020-10-07"
      ],
      "execution_count": null,
      "outputs": []
    },
    {
      "cell_type": "code",
      "metadata": {
        "id": "65PHO_NgpiNK"
      },
      "source": [
        ""
      ],
      "execution_count": null,
      "outputs": []
    }
  ]
}